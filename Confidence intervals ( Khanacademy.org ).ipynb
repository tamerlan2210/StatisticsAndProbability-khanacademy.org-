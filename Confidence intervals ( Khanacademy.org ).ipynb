{
 "cells": [
  {
   "cell_type": "code",
   "execution_count": 1,
   "metadata": {},
   "outputs": [],
   "source": [
    "from scipy.stats import norm\n",
    "import math"
   ]
  },
  {
   "cell_type": "markdown",
   "metadata": {},
   "source": [
    "The useful links: \n",
    "1)How to Calculate Critical Values for Statistical Hypothesis Testing with Python : https://machinelearningmastery.com/critical-values-for-statistical-hypothesis-testing/\n",
    "2)How to Find the Z Critical Value in Python: https://www.statology.org/z-critical-value-python/\n",
    "3)How to Find the T Critical Value in Python: https://www.statology.org/how-to-find-the-t-critical-value-in-python/"
   ]
  },
  {
   "cell_type": "markdown",
   "metadata": {},
   "source": [
    "# Finding the critical value z* for a desired confidence level:\n"
   ]
  },
  {
   "cell_type": "markdown",
   "metadata": {},
   "source": [
    "#1"
   ]
  },
  {
   "cell_type": "markdown",
   "metadata": {},
   "source": [
    "Emer made a one-sample z interval for a proportion and used the critical value z*=1.476 \n",
    "What confidence level did she use?"
   ]
  },
  {
   "cell_type": "code",
   "execution_count": 2,
   "metadata": {},
   "outputs": [
    {
     "data": {
      "text/plain": [
       "0.8600561077685378"
      ]
     },
     "execution_count": 2,
     "metadata": {},
     "output_type": "execute_result"
    }
   ],
   "source": [
    "norm.cdf(1.476)-norm.cdf(-1.476) #0.86"
   ]
  },
  {
   "cell_type": "markdown",
   "metadata": {},
   "source": [
    "#2"
   ]
  },
  {
   "cell_type": "markdown",
   "metadata": {},
   "source": [
    "Elena wants to build a one-sample z interval to estimate what proportion of computers produced at a factory have a certain defect. She chooses a confidence level of 94%. A random sample of 200 computers shows that 12 computers have the defect. What critical value z* start should Elena use to construct this confidence interval?"
   ]
  },
  {
   "cell_type": "code",
   "execution_count": 3,
   "metadata": {},
   "outputs": [
    {
     "data": {
      "text/plain": [
       "-1.880793608151251"
      ]
     },
     "execution_count": 3,
     "metadata": {},
     "output_type": "execute_result"
    }
   ],
   "source": [
    "norm.ppf(.03) #1.88 "
   ]
  },
  {
   "cell_type": "markdown",
   "metadata": {},
   "source": [
    "#3 "
   ]
  },
  {
   "cell_type": "markdown",
   "metadata": {},
   "source": [
    "What is the critical value z*for constructing an 80% percent confidence interval?"
   ]
  },
  {
   "cell_type": "code",
   "execution_count": 4,
   "metadata": {},
   "outputs": [
    {
     "data": {
      "text/plain": [
       "-1.2815515655446004"
      ]
     },
     "execution_count": 4,
     "metadata": {},
     "output_type": "execute_result"
    }
   ],
   "source": [
    "norm.ppf(.1)  #1.28"
   ]
  },
  {
   "cell_type": "markdown",
   "metadata": {},
   "source": [
    "#4"
   ]
  },
  {
   "cell_type": "markdown",
   "metadata": {},
   "source": [
    "Tristan made a one-sample z interval for a proportion and used the critical value z*=2.054?\n",
    "What confidence level did he use?"
   ]
  },
  {
   "cell_type": "code",
   "execution_count": 5,
   "metadata": {},
   "outputs": [
    {
     "data": {
      "text/plain": [
       "0.9600243082899163"
      ]
     },
     "execution_count": 5,
     "metadata": {},
     "output_type": "execute_result"
    }
   ],
   "source": [
    "1-2*norm.cdf(-2.054) #0.96"
   ]
  },
  {
   "cell_type": "markdown",
   "metadata": {},
   "source": [
    "# Calculating a z interval for a proportion:"
   ]
  },
  {
   "cell_type": "markdown",
   "metadata": {},
   "source": [
    "#1"
   ]
  },
  {
   "cell_type": "markdown",
   "metadata": {},
   "source": [
    "An airline transports over 10000 passengers daily, and the airline is curious what proportion of their passengers use mobile boarding passes instead of paper passes. They take an SRS of 80 passengers and find that 60 of them use mobile boarding passes.What is a 95% confidence interval for the proportion of passengers who use mobile boarding passes?"
   ]
  },
  {
   "cell_type": "code",
   "execution_count": 19,
   "metadata": {},
   "outputs": [
    {
     "data": {
      "text/plain": [
       "(-0.0948863483911245, [0.6551136516088755, 0.8448863483911245])"
      ]
     },
     "execution_count": 19,
     "metadata": {},
     "output_type": "execute_result"
    }
   ],
   "source": [
    "srs = 80 \n",
    "use_mbp = 60\n",
    "conf_intr = 0.95\n",
    "\n",
    "p = use_mbp/srs   \n",
    "SE = math.sqrt(p*(1-p)/srs)\n",
    "z_test = norm.ppf((1-conf_intr)/2)\n",
    "\n",
    "margin_of_error = z_test * SE \n",
    "\n",
    "a95conf_intrv_prop1 = p + margin_of_error\n",
    "a95conf_intv_prop2 = p - margin_of_error\n",
    "\n",
    "a95conf = [a95conf_intrv_prop1,a95conf_intv_prop2]\n",
    "\n",
    "margin_of_error,a95conf\n"
   ]
  },
  {
   "cell_type": "markdown",
   "metadata": {},
   "source": [
    "# Sample size and margin of error in a z interval for p:\n"
   ]
  },
  {
   "cell_type": "markdown",
   "metadata": {},
   "source": [
    "#1"
   ]
  },
  {
   "cell_type": "markdown",
   "metadata": {},
   "source": [
    "Jonah wants to make a one-sample zzz interval using 99% confidence to estimate what proportion of silicon wafers at his factory are defective. He wants the margin of error to be no more than 3%. A previous study suggests that about 6% of these wafers are defective.\n",
    "If we assume p=0.06 what is the smallest sample size required to obtain the desired margin of error?"
   ]
  },
  {
   "cell_type": "code",
   "execution_count": 26,
   "metadata": {
    "scrolled": true
   },
   "outputs": [
    {
     "data": {
      "text/plain": [
       "[-0.030734687593697154,\n",
       " -0.024248265730203677,\n",
       " -0.019992232418277873,\n",
       " -0.017600996170245877]"
      ]
     },
     "execution_count": 26,
     "metadata": {},
     "output_type": "execute_result"
    }
   ],
   "source": [
    "srs = [366,588,865,1116]\n",
    "\n",
    "conf_intr = 0.95\n",
    "\n",
    "p = 0.9\n",
    "SE = []\n",
    "z_test = norm.ppf((1-conf_intr)/2)\n",
    "\n",
    "for i in srs:\n",
    "    SE.append(math.sqrt(p*(1-p)/i))\n",
    "\n",
    "margin_of_error = []\n",
    "\n",
    "for i in SE:\n",
    "    margin_of_error.append(z_test *  i)\n",
    "\n",
    "margin_of_error # if SRS = 416, the  margin of error is no more than 3%"
   ]
  },
  {
   "cell_type": "markdown",
   "metadata": {},
   "source": [
    "# Finding the critical value t* for a desired confidence level:\n"
   ]
  },
  {
   "cell_type": "markdown",
   "metadata": {},
   "source": [
    "#1"
   ]
  },
  {
   "cell_type": "markdown",
   "metadata": {},
   "source": [
    "A doctor took a random sample of n=6 patients to see how long they each spent in the waiting room. She wants to construct a t interval for the mean waiting time with 99% confidence. The times in the sample were roughly symmetric with a mean of bar x=8.5 minutes and a standard deviation of s=2.8 minutes.What critical value t* should she use?\n"
   ]
  },
  {
   "cell_type": "code",
   "execution_count": 28,
   "metadata": {},
   "outputs": [],
   "source": [
    "from scipy.stats import t"
   ]
  },
  {
   "cell_type": "code",
   "execution_count": 48,
   "metadata": {},
   "outputs": [
    {
     "data": {
      "text/plain": [
       "4.032142983557536"
      ]
     },
     "execution_count": 48,
     "metadata": {},
     "output_type": "execute_result"
    }
   ],
   "source": [
    "n = 6 \n",
    "conf_int = 0.99 #significance level = 0.01 or .01\n",
    "x = 8.5 \n",
    "s = 2.8\n",
    "\n",
    "\n",
    "t_test = t.ppf(q=1-.01/2,df=n-1) # critical value t* \n",
    "t_test"
   ]
  },
  {
   "cell_type": "markdown",
   "metadata": {},
   "source": [
    "# Calculating a t interval for a mean:"
   ]
  },
  {
   "cell_type": "markdown",
   "metadata": {},
   "source": [
    "#1"
   ]
  },
  {
   "cell_type": "markdown",
   "metadata": {},
   "source": [
    "Marcelina has over 500 songs on her mobile phone, and she wants to estimate the average length of the songs (in minutes). She takes an SRS of 28 songs on her phone and calculates a sample mean of 3.43 and a standard deviation of 0.72 minutes. The song lengths in the sample were roughly symmetric with no clear outliers.\n",
    "Based on this sample, which of the following is a 99% confidence interval for the mean length (in minutes) of the songs on her phone?"
   ]
  },
  {
   "cell_type": "code",
   "execution_count": 68,
   "metadata": {},
   "outputs": [
    {
     "data": {
      "text/plain": [
       "(0.37699910055509084, 3.806999100555091, 3.053000899444909)"
      ]
     },
     "execution_count": 68,
     "metadata": {},
     "output_type": "execute_result"
    }
   ],
   "source": [
    "srs = 28\n",
    "x = 3.43\n",
    "s = 0.72 \n",
    "conf_intrv = 0.99 # significance level = 0.01 or .01\n",
    "\n",
    "SE = s/math.sqrt(srs) #0.136\n",
    "\n",
    "t_test = t.ppf(1-.01/2,srs-1) #2.7706\n",
    "\n",
    "marg_of_error = SE * t_test \n",
    "interval1 = x + marg_of_error \n",
    "interval2 = x - marg_of_error\n",
    "\n",
    "marg_of_error,interval1,interval2"
   ]
  },
  {
   "cell_type": "markdown",
   "metadata": {},
   "source": [
    "# Sample size and margin of error in a confidence interval for a mean:"
   ]
  },
  {
   "cell_type": "markdown",
   "metadata": {},
   "source": [
    "#1"
   ]
  },
  {
   "cell_type": "markdown",
   "metadata": {},
   "source": [
    "Dr. Suarez, a veterinarian, wants to estimate the average number of calories a chihuahua typically eats in a day. She'll take a sample of n chihuahuas and create a 99% confidence interval for the mean daily caloric intake. She wants the margin of error to be no more than 8 calories. A pilot study suggests that the daily caloric intake of chihuahuas has a standard deviation of 30 calories.\n",
    "Which of these is the smallest approximate sample size required to obtain the desired margin of error?"
   ]
  },
  {
   "cell_type": "code",
   "execution_count": 79,
   "metadata": {},
   "outputs": [
    {
     "data": {
      "text/plain": [
       "[27.320795515776737,\n",
       " 14.108398138365546,\n",
       " 10.419742573088744,\n",
       " 7.970295211248979,\n",
       " 7.205919632296946]"
      ]
     },
     "execution_count": 79,
     "metadata": {},
     "output_type": "execute_result"
    }
   ],
   "source": [
    "n = [8,30,55,94,115]\n",
    "\n",
    "s = 30\n",
    "conf_intrv = 0.99 # significance level = 0.01 or .01\n",
    "\n",
    "z_test = norm.ppf(1-.01/2) #use z test instead of t, as a commonly accepted workaround \n",
    "\n",
    "\n",
    "SE = []\n",
    "for i in n:\n",
    "    SE.append(s/math.sqrt(i)) \n",
    "\n",
    "marg_of_error = []\n",
    "for i in SE:\n",
    "    marg_of_error.append(i * z_test)\n",
    "\n",
    "\n",
    "marg_of_error # n=94 is the smallest approximate sample size that obtains the desired margin of error is 94 chihuahuas"
   ]
  }
 ],
 "metadata": {
  "kernelspec": {
   "display_name": "Python 3",
   "language": "python",
   "name": "python3"
  },
  "language_info": {
   "codemirror_mode": {
    "name": "ipython",
    "version": 3
   },
   "file_extension": ".py",
   "mimetype": "text/x-python",
   "name": "python",
   "nbconvert_exporter": "python",
   "pygments_lexer": "ipython3",
   "version": "3.7.6"
  }
 },
 "nbformat": 4,
 "nbformat_minor": 4
}
