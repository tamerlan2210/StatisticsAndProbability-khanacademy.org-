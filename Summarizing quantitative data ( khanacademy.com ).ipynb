{
 "cells": [
  {
   "cell_type": "code",
   "execution_count": 1,
   "metadata": {},
   "outputs": [],
   "source": [
    "import numpy as np\n",
    "import statistics"
   ]
  },
  {
   "cell_type": "code",
   "execution_count": 2,
   "metadata": {},
   "outputs": [
    {
     "data": {
      "text/plain": [
       "(9.75, 40.916666666666664)"
      ]
     },
     "execution_count": 2,
     "metadata": {},
     "output_type": "execute_result"
    }
   ],
   "source": [
    "x = [14,15,9,1]\n",
    "np.mean(x),np.var(x,ddof=1)"
   ]
  },
  {
   "cell_type": "code",
   "execution_count": 3,
   "metadata": {},
   "outputs": [
    {
     "data": {
      "text/plain": [
       "(5.0, 4.123105625617661)"
      ]
     },
     "execution_count": 3,
     "metadata": {},
     "output_type": "execute_result"
    }
   ],
   "source": [
    "y=[13,2,1,5,2,7]\n",
    "np.mean(y),np.std(y)"
   ]
  },
  {
   "cell_type": "code",
   "execution_count": 4,
   "metadata": {},
   "outputs": [
    {
     "data": {
      "text/plain": [
       "3.0"
      ]
     },
     "execution_count": 4,
     "metadata": {},
     "output_type": "execute_result"
    }
   ],
   "source": [
    "from scipy import stats\n",
    "data2 = [0,1,1,3,3,3,4,5,7]\n",
    "#data = [0,0,0.25,0.5,0.5,1,1,1,1.25,2,2]\n",
    "iqr = stats.iqr(data2,interpolation='midpoint')\n",
    "iqr"
   ]
  },
  {
   "cell_type": "code",
   "execution_count": 5,
   "metadata": {},
   "outputs": [
    {
     "data": {
      "text/plain": [
       "(1.0, 4.0, 3.0)"
      ]
     },
     "execution_count": 5,
     "metadata": {},
     "output_type": "execute_result"
    }
   ],
   "source": [
    "q1 = np.percentile(data2,25,interpolation='midpoint')\n",
    "q3 = np.percentile(data2,75,interpolation='midpoint')\n",
    "iqr = q3-q1\n",
    "q1,q3,iqr\n"
   ]
  },
  {
   "cell_type": "code",
   "execution_count": 6,
   "metadata": {},
   "outputs": [
    {
     "name": "stdout",
     "output_type": "stream",
     "text": [
      "1.0 4.5 3.5\n"
     ]
    }
   ],
   "source": [
    "Q1 = np.median(data2[:4]) \n",
    "  \n",
    "# Third quartile (Q3) \n",
    "Q3 = np.median(data2[5:]) \n",
    "  \n",
    "# Interquartile range (IQR) \n",
    "IQR = Q3 - Q1 \n",
    "  \n",
    "print(Q1,Q3,IQR)"
   ]
  },
  {
   "cell_type": "code",
   "execution_count": 7,
   "metadata": {},
   "outputs": [
    {
     "data": {
      "text/plain": [
       "{'whiskers': [<matplotlib.lines.Line2D at 0x29ae2593b08>,\n",
       "  <matplotlib.lines.Line2D at 0x29ae25b1c48>,\n",
       "  <matplotlib.lines.Line2D at 0x29ae25a7a08>,\n",
       "  <matplotlib.lines.Line2D at 0x29ae25c3288>],\n",
       " 'caps': [<matplotlib.lines.Line2D at 0x29ae25b1d48>,\n",
       "  <matplotlib.lines.Line2D at 0x29ae25b1e08>,\n",
       "  <matplotlib.lines.Line2D at 0x29ae25c37c8>,\n",
       "  <matplotlib.lines.Line2D at 0x29ae25ca748>],\n",
       " 'boxes': [<matplotlib.lines.Line2D at 0x29ae25a0c08>,\n",
       "  <matplotlib.lines.Line2D at 0x29ae25a7848>],\n",
       " 'medians': [<matplotlib.lines.Line2D at 0x29ae25a7808>,\n",
       "  <matplotlib.lines.Line2D at 0x29ae25ca208>],\n",
       " 'fliers': [<matplotlib.lines.Line2D at 0x29ae25bea88>,\n",
       "  <matplotlib.lines.Line2D at 0x29ae25caf48>],\n",
       " 'means': []}"
      ]
     },
     "execution_count": 7,
     "metadata": {},
     "output_type": "execute_result"
    },
    {
     "data": {
      "image/png": "[encoded data removed]",
      "text/plain": [
       "<Figure size 720x576 with 1 Axes>"
      ]
     },
     "metadata": {
      "needs_background": "light"
     },
     "output_type": "display_data"
    }
   ],
   "source": [
    "import pandas as pd\n",
    "import matplotlib.pyplot as plt\n",
    "%matplotlib inline\n",
    "import matplotlib.ticker as ticker\n",
    "\n",
    "df = [[4,5,5,7,7,10,10,11,13,13,13,14],\n",
    "[4,5,7,7,7,8,10,11,11,13,13,14]]\n",
    "\n",
    "fig, ax = plt.subplots()\n",
    "ax.xaxis.set_major_locator(ticker.MultipleLocator(1))\n",
    "\n",
    "fig.set_figwidth(10)\n",
    "fig.set_figheight(8)\n",
    "\n",
    "plt.boxplot(df,vert=0)"
   ]
  },
  {
   "cell_type": "code",
   "execution_count": 8,
   "metadata": {},
   "outputs": [
    {
     "data": {
      "text/plain": [
       "{'whiskers': [<matplotlib.lines.Line2D at 0x29ae2640ac8>,\n",
       "  <matplotlib.lines.Line2D at 0x29ae2640bc8>],\n",
       " 'caps': [<matplotlib.lines.Line2D at 0x29ae2647c08>,\n",
       "  <matplotlib.lines.Line2D at 0x29ae2807b08>],\n",
       " 'boxes': [<matplotlib.lines.Line2D at 0x29ae2640188>],\n",
       " 'medians': [<matplotlib.lines.Line2D at 0x29ae263e408>],\n",
       " 'fliers': [<matplotlib.lines.Line2D at 0x29ae2647b48>],\n",
       " 'means': []}"
      ]
     },
     "execution_count": 8,
     "metadata": {},
     "output_type": "execute_result"
    },
    {
     "data": {
      "image/png": "[encoded data removed]",
      "text/plain": [
       "<Figure size 576x360 with 1 Axes>"
      ]
     },
     "metadata": {
      "needs_background": "light"
     },
     "output_type": "display_data"
    }
   ],
   "source": [
    "data = [12,15,15,17,19,19,20,22,24]\n",
    "fig, ax = plt.subplots()\n",
    "ax.xaxis.set_major_locator(ticker.MultipleLocator(1))\n",
    "fig.set_figwidth(8)\n",
    "fig.set_figheight(5)\n",
    "plt.boxplot(data,vert=0)"
   ]
  },
  {
   "cell_type": "code",
   "execution_count": 13,
   "metadata": {},
   "outputs": [
    {
     "data": {
      "text/plain": [
       "1.6"
      ]
     },
     "execution_count": 13,
     "metadata": {},
     "output_type": "execute_result"
    }
   ],
   "source": [
    "list = [5,8,11,7,9]\n",
    "series=pd.Series(list)\n",
    "series.mad()"
   ]
  },
  {
   "cell_type": "code",
   "execution_count": null,
   "metadata": {},
   "outputs": [],
   "source": []
  },
  {
   "cell_type": "code",
   "execution_count": null,
   "metadata": {},
   "outputs": [],
   "source": []
  },
  {
   "cell_type": "code",
   "execution_count": null,
   "metadata": {},
   "outputs": [],
   "source": []
  }
 ],
 "metadata": {
  "kernelspec": {
   "display_name": "Python 3",
   "language": "python",
   "name": "python3"
  },
  "language_info": {
   "codemirror_mode": {
    "name": "ipython",
    "version": 3
   },
   "file_extension": ".py",
   "mimetype": "text/x-python",
   "name": "python",
   "nbconvert_exporter": "python",
   "pygments_lexer": "ipython3",
   "version": "3.7.6"
  }
 },
 "nbformat": 4,
 "nbformat_minor": 4
}
