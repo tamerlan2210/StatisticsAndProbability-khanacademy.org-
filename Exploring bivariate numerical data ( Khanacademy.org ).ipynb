{
 "cells": [
  {
   "cell_type": "code",
   "execution_count": 33,
   "metadata": {},
   "outputs": [],
   "source": [
    "import pandas as pd\n",
    "import numpy as np\n",
    "%matplotlib inline\n",
    "\n",
    "import matplotlib as mpl\n",
    "import matplotlib.pyplot as plt\n",
    "import seaborn as sns"
   ]
  },
  {
   "cell_type": "code",
   "execution_count": 8,
   "metadata": {},
   "outputs": [
    {
     "data": {
      "image/png": "[encoded data removed]",
      "text/plain": [
       "<Figure size 360x216 with 1 Axes>"
      ]
     },
     "metadata": {
      "needs_background": "light"
     },
     "output_type": "display_data"
    }
   ],
   "source": [
    "#Making appropriate scatter plots\n",
    "\n",
    "x = [1,3,6,8,11]\n",
    "y = [9,7,6,4,2]\n",
    "\n",
    "data = {'x':x, 'y':y}\n",
    "df1 = pd.DataFrame(data = data)\n",
    "\n",
    "df1.plot(kind='scatter',x='x',y='y',figsize = (5,3),color = 'black')\n",
    "plt.show()"
   ]
  },
  {
   "cell_type": "code",
   "execution_count": 26,
   "metadata": {},
   "outputs": [
    {
     "name": "stdout",
     "output_type": "stream",
     "text": [
      "Slope: -1.1333333333333317\n",
      "Y-intercept: 39.111111111111065\n"
     ]
    },
    {
     "data": {
      "text/plain": [
       "[<matplotlib.lines.Line2D at 0x210962d7d08>]"
      ]
     },
     "execution_count": 26,
     "metadata": {},
     "output_type": "execute_result"
    },
    {
     "data": {
      "image/png": "[encoded data removed]",
      "text/plain": [
       "<Figure size 360x216 with 1 Axes>"
      ]
     },
     "metadata": {
      "needs_background": "light"
     },
     "output_type": "display_data"
    }
   ],
   "source": [
    "#Estimating slope of line of best fit\n",
    "\n",
    "x =  list(map(int,range(16,25)))\n",
    "y = [23,20,19,15,15,14,14,17,11]\n",
    "\n",
    "data = {'x':x, 'y':y}\n",
    "df1 = pd.DataFrame(data = data)\n",
    "\n",
    "m,b = np.polyfit(df1['x'],df1['y'],deg=1)\n",
    "\n",
    "print('Slope:',m)\n",
    "print('Y-intercept:',b)\n",
    "\n",
    "df1.plot(kind='scatter',x='x',y='y',figsize = (5,3),color = 'black')\n",
    "plt.plot(x,m*df1['x']+b)"
   ]
  },
  {
   "cell_type": "code",
   "execution_count": 9,
   "metadata": {},
   "outputs": [
    {
     "name": "stdout",
     "output_type": "stream",
     "text": [
      "m: 0.23099999999999998\n",
      "a: 1.7721\n",
      "yhat = 1.7721 + 0.23099999999999998 *x\n"
     ]
    }
   ],
   "source": [
    "#Calculating the equation of the least-squares line\n",
    "\n",
    "stdX = 3\n",
    "stdY = 0.7\n",
    "r = 0.99\n",
    "x_mean = 20.9\n",
    "y_mean = 6.6\n",
    "\n",
    "m = r*(stdY/stdX)\n",
    "print('m:',m)\n",
    "\n",
    "a =  y_mean - m*x_mean\n",
    "print('a:',a)\n",
    "\n",
    "print('yhat =',a,\"+\",m,'*x')"
   ]
  }
 ],
 "metadata": {
  "kernelspec": {
   "display_name": "Python 3",
   "language": "python",
   "name": "python3"
  },
  "language_info": {
   "codemirror_mode": {
    "name": "ipython",
    "version": 3
   },
   "file_extension": ".py",
   "mimetype": "text/x-python",
   "name": "python",
   "nbconvert_exporter": "python",
   "pygments_lexer": "ipython3",
   "version": "3.7.6"
  }
 },
 "nbformat": 4,
 "nbformat_minor": 4
}
