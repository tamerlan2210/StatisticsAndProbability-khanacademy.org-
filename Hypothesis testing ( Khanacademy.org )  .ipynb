{
 "cells": [
  {
   "cell_type": "code",
   "execution_count": 12,
   "metadata": {},
   "outputs": [],
   "source": [
    "from scipy.stats import norm\n",
    "import math"
   ]
  },
  {
   "cell_type": "markdown",
   "metadata": {},
   "source": [
    "# Calculating the test statistic in a z test for a proportion:\n"
   ]
  },
  {
   "cell_type": "markdown",
   "metadata": {},
   "source": [
    "#1"
   ]
  },
  {
   "cell_type": "markdown",
   "metadata": {},
   "source": [
    "Jake heard that spinning—rather than flipping—a penny raises the probability above 50% that the penny lands showing heads. He tests this by spinning 10 different pennies 10 times each, so he's willing to treat these spins as a random sample. In his 100 spins, the penny landed showing \"heads\" in 68 spins. He wants to use these results to test H_0: p=0.50 vs. H_{a}: p>0.50H  where p is the true proportion of spins that a penny would land showing \"heads\".\n",
    "Assuming that the conditions for inference have been met, calculate the test statistic for Jake's significance test."
   ]
  },
  {
   "cell_type": "code",
   "execution_count": 25,
   "metadata": {},
   "outputs": [
    {
     "data": {
      "text/plain": [
       "3.600000000000001"
      ]
     },
     "execution_count": 25,
     "metadata": {},
     "output_type": "execute_result"
    }
   ],
   "source": [
    "p_H_0 = 0.5 #parameter\n",
    "p_sample = 68/100 #statistic\n",
    "\n",
    "std_stat = math.sqrt((p_H_0*(1-p_H_0)/100)) #standad dev. of statistic\n",
    "z = (p_sample-p_H_0)/std_stat\n",
    "z"
   ]
  },
  {
   "cell_type": "markdown",
   "metadata": {},
   "source": [
    "# Calculating the P-value in a z test for a proportion:\n"
   ]
  },
  {
   "cell_type": "markdown",
   "metadata": {},
   "source": [
    "#1"
   ]
  },
  {
   "cell_type": "markdown",
   "metadata": {},
   "source": [
    "Elliot read a report from a previous year saying that 6% of adults in his city biked to work. He wanted to test whether this had changed, so he took a random sample of 240 adults in his city to test H_0:p=0.06 vs. H_a:p!=0.06  where p is the proportion of adults in Elliot's city that bike to work.\n",
    "The sample results showed 21 adults who biked to work, and the corresponding test statistic was z≈1.79.\n",
    "Assuming that the necessary conditions are met, what is the approximate P-value for Elliot's significance test?"
   ]
  },
  {
   "cell_type": "code",
   "execution_count": 61,
   "metadata": {},
   "outputs": [
    {
     "data": {
      "text/plain": [
       "0.0735"
      ]
     },
     "execution_count": 61,
     "metadata": {},
     "output_type": "execute_result"
    }
   ],
   "source": [
    "#Answer \n",
    "\n",
    "z = 1.79\n",
    "p_value = round(2*norm.cdf(-z),4)\n",
    "p_value"
   ]
  },
  {
   "cell_type": "markdown",
   "metadata": {},
   "source": [
    "#2"
   ]
  },
  {
   "cell_type": "markdown",
   "metadata": {},
   "source": [
    "According to a large poll in a previous year, about 80% of homes in a certain county had access to high-speed internet. The following year, researchers wanted to test H_0: p=0.8 vs. H_a: p<0.8 , where p is the proportion of homes in this county with high-speed internet access.\n",
    "They took a random sample of 250 homes from that county and found that 189 of them had access to high-speed internet. The test statistic for these results was z≈−1.74.\n",
    "Assuming that the necessary conditions are met, what is the approximate P-value for this significance test?"
   ]
  },
  {
   "cell_type": "code",
   "execution_count": 31,
   "metadata": {},
   "outputs": [
    {
     "data": {
      "text/plain": [
       "0.0409"
      ]
     },
     "execution_count": 31,
     "metadata": {},
     "output_type": "execute_result"
    }
   ],
   "source": [
    "#Answer \n",
    "\n",
    "z = -1.74\n",
    "p_value = round(norm.cdf(z),4)\n",
    "p_value"
   ]
  },
  {
   "cell_type": "markdown",
   "metadata": {},
   "source": [
    "# Calculating the test statistic in a t test for a mean:\n"
   ]
  },
  {
   "cell_type": "code",
   "execution_count": 50,
   "metadata": {},
   "outputs": [],
   "source": [
    "from scipy.stats import t"
   ]
  },
  {
   "cell_type": "markdown",
   "metadata": {},
   "source": [
    "#1"
   ]
  },
  {
   "cell_type": "markdown",
   "metadata": {},
   "source": [
    "St. West High School requires that students are assigned an average of 2.5 hours of homework each night. The school board believes that the average amount of time per night is not 2.5 hours, so they decide to take a random sample of 16 students to see if there is convincing evidence to support their suspicion. The board finds that the sample of students were assigned an average of 2.8 hours of homework per night with a standard deviation of 0.8 hours.\n",
    "The board want to use these sample data to conduct a t-test on the mean. Assume that all conditions for inference have been met.\n",
    "Calculate the test statistic for their test."
   ]
  },
  {
   "cell_type": "code",
   "execution_count": 45,
   "metadata": {},
   "outputs": [
    {
     "data": {
      "text/plain": [
       "(0.2999999999999998, 0.2, 1.4999999999999991)"
      ]
     },
     "execution_count": 45,
     "metadata": {},
     "output_type": "execute_result"
    }
   ],
   "source": [
    "#Answer \n",
    "\n",
    "n = 16    #srs size\n",
    "mu = 2.5 # H_0 avarage\n",
    "x = 2.8  #sample avarage\n",
    "s = 0.8 #sample stdev\n",
    "\n",
    "mean_diff = x - mu # difference of means\n",
    "SE = s/math.sqrt(n) #standard error of statistic\n",
    "\n",
    "t_test = mean_diff/SE\n",
    "\n",
    "\n",
    "mean_diff, SE , t_test"
   ]
  },
  {
   "cell_type": "markdown",
   "metadata": {},
   "source": [
    "#2"
   ]
  },
  {
   "cell_type": "markdown",
   "metadata": {},
   "source": [
    "Rory suspects that teachers in his school district have less than 5 years of experience on average. He decided to test H_0: μ=5  vs . H_a: μ<5 using a sample of 25 teachers. His sample mean was 4 years and his sample standard deviation was 2 years.\n",
    "Rory wants to use these sample data to conduct a t test on the mean. Assume that all conditions for inference have been met.\n",
    "Calculate the test statistic for Rory's test."
   ]
  },
  {
   "cell_type": "code",
   "execution_count": 46,
   "metadata": {},
   "outputs": [
    {
     "data": {
      "text/plain": [
       "(-1, 0.4, -2.5)"
      ]
     },
     "execution_count": 46,
     "metadata": {},
     "output_type": "execute_result"
    }
   ],
   "source": [
    "#Answer \n",
    "\n",
    "n = 25    #srs size\n",
    "mu = 5 # H_0 avarage\n",
    "x = 4  #sample avarage\n",
    "s = 2 #sample stdev\n",
    "\n",
    "mean_diff = x - mu # difference of means\n",
    "SE = s/math.sqrt(n) #standard error of statistic\n",
    "\n",
    "t_test = mean_diff/SE\n",
    "\n",
    "\n",
    "mean_diff, SE , t_test"
   ]
  },
  {
   "cell_type": "markdown",
   "metadata": {},
   "source": [
    "# Calculating the P-value in a t test for a mean:"
   ]
  },
  {
   "cell_type": "markdown",
   "metadata": {},
   "source": [
    "#1"
   ]
  },
  {
   "cell_type": "markdown",
   "metadata": {},
   "source": [
    "Caterina was testing H_0: μ=0 versus H_a: μ !=0 with a sample of 6 observations. Her test statistic was t=2.75. Assume that the conditions for inference were met.\n",
    "What is the approximate P-value for Caterina's test?"
   ]
  },
  {
   "cell_type": "code",
   "execution_count": 57,
   "metadata": {},
   "outputs": [
    {
     "data": {
      "text/plain": [
       "0.04031022254002542"
      ]
     },
     "execution_count": 57,
     "metadata": {},
     "output_type": "execute_result"
    }
   ],
   "source": [
    "#Answer \n",
    "\n",
    "n = 6 # num of observation\n",
    "t_stat = 2.75 # test statistic\n",
    "\n",
    "p_value = 2 * t.cdf(-t_stat,n-1) # p-value of two sides of the distribution, since H_a: μ !=0 \n",
    "p_value"
   ]
  },
  {
   "cell_type": "markdown",
   "metadata": {},
   "source": [
    "#2"
   ]
  },
  {
   "cell_type": "markdown",
   "metadata": {},
   "source": [
    "Amelie was testing H_0:μ=15 versus H_a:μ<15 with a sample of 10 observations. Her test statistic was t=-2.77. Assume that the conditions for inference were met.\n",
    "What is the approximate P-value for Amelie's test?"
   ]
  },
  {
   "cell_type": "code",
   "execution_count": 60,
   "metadata": {},
   "outputs": [
    {
     "data": {
      "text/plain": [
       "0.010876754219604705"
      ]
     },
     "execution_count": 60,
     "metadata": {},
     "output_type": "execute_result"
    }
   ],
   "source": [
    "#Answer \n",
    "\n",
    "n = 10\n",
    "t_stat = -2.77\n",
    "\n",
    "p_value = t.cdf(t_stat,n-1) # p-value of the left side of the distribution, since H_a:μ<15 \n",
    "p_value"
   ]
  },
  {
   "cell_type": "code",
   "execution_count": null,
   "metadata": {},
   "outputs": [],
   "source": []
  }
 ],
 "metadata": {
  "kernelspec": {
   "display_name": "Python 3",
   "language": "python",
   "name": "python3"
  },
  "language_info": {
   "codemirror_mode": {
    "name": "ipython",
    "version": 3
   },
   "file_extension": ".py",
   "mimetype": "text/x-python",
   "name": "python",
   "nbconvert_exporter": "python",
   "pygments_lexer": "ipython3",
   "version": "3.7.6"
  }
 },
 "nbformat": 4,
 "nbformat_minor": 4
}
