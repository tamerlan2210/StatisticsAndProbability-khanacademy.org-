{
 "cells": [
  {
   "cell_type": "code",
   "execution_count": 41,
   "metadata": {},
   "outputs": [],
   "source": [
    "import math\n",
    "import itertools"
   ]
  },
  {
   "cell_type": "markdown",
   "metadata": {},
   "source": [
    "# PERMUTATIONS"
   ]
  },
  {
   "cell_type": "code",
   "execution_count": 42,
   "metadata": {},
   "outputs": [
    {
     "name": "stdout",
     "output_type": "stream",
     "text": [
      "120\n"
     ]
    }
   ],
   "source": [
    "#Permutations\n",
    "\n",
    "perm1 = itertools.permutations(['EzekielLancer', 'Gloopin','Balthazar',],3)\n",
    "\n",
    "perm3 = itertools.permutations('PRIOR')\n",
    "\n",
    "#for i in list(perm3): \n",
    "    #print(i)\n",
    "    \n",
    "num_of_perm = len(list(perm3))\n",
    "print(num_of_perm)"
   ]
  },
  {
   "cell_type": "markdown",
   "metadata": {},
   "source": [
    "# #Combinations"
   ]
  },
  {
   "cell_type": "code",
   "execution_count": 43,
   "metadata": {},
   "outputs": [
    {
     "name": "stdout",
     "output_type": "stream",
     "text": [
      "10\n"
     ]
    }
   ],
   "source": [
    "comb1 = itertools.combinations([1,2,3,4,5,6],3)\n",
    "comb2 = itertools.combinations('lalal',2)\n",
    "\n",
    "num_of_comb = len(list(comb2))\n",
    "\n",
    "#for i in list(comb2): \n",
    "    #print(i)\n",
    "    \n",
    "print(num_of_comb)"
   ]
  },
  {
   "cell_type": "code",
   "execution_count": 178,
   "metadata": {
    "scrolled": true
   },
   "outputs": [
    {
     "data": {
      "text/plain": [
       "34"
      ]
     },
     "execution_count": 178,
     "metadata": {},
     "output_type": "execute_result"
    }
   ],
   "source": [
    "#How many numbers between 1 and 100(inclusive) are divisible by 4 or 9?\n",
    "\n",
    "listint = list(range(1,101))\n",
    "f = []\n",
    "for i in listint:\n",
    "    if i%4==0:\n",
    "        f.append(i)\n",
    "    elif i%9==0:\n",
    "        f.append(i)\n",
    "len(f)"
   ]
  },
  {
   "cell_type": "markdown",
   "metadata": {},
   "source": [
    "# Probability with permutations and combinations "
   ]
  },
  {
   "cell_type": "markdown",
   "metadata": {},
   "source": [
    "We know two ways to count the number of groups we can choose: we use permutations if order matters, and combinations if it doesn't. "
   ]
  },
  {
   "cell_type": "code",
   "execution_count": 32,
   "metadata": {},
   "outputs": [
    {
     "data": {
      "text/plain": [
       "0.375"
      ]
     },
     "execution_count": 32,
     "metadata": {},
     "output_type": "execute_result"
    }
   ],
   "source": [
    "#If you flip a fair coin 4 times, what is the probability that you will get exactly 2 tails?\n",
    "\n",
    "num_getting_2tails = len(list(itertools.combinations('HHTT',2))) # number of ways to get  2 tails\n",
    "total_possible_outcomes = len(list(itertools.product('HT',repeat=4))) #number of ways that four coins can be flipped\n",
    "\n",
    "p = num_getting_2tails/total_possible_outcomes\n",
    "p\n"
   ]
  },
  {
   "cell_type": "code",
   "execution_count": 27,
   "metadata": {},
   "outputs": [
    {
     "name": "stdout",
     "output_type": "stream",
     "text": [
      "5 / 35\n",
      "0.14285714285714285\n"
     ]
    }
   ],
   "source": [
    "#There are 777 students in a class: 5 boys and 2 girls.\n",
    "#If the teacher picks a group of 4 at random, what is the probability that everyone in the group is a boy?\n",
    "\n",
    "fromWholeGroup = len(list(itertools.combinations('bbbbbgg',4)))#number of ways to pick a group of 4 students out of 7\n",
    "fromBoysGroup = len(list(itertools.combinations('bbbbb',4))) #number of ways to pick a group of 4 students out of 5\n",
    "\n",
    "pr = fromBoysGroup/fromWholeGroup\n",
    "\n",
    "print(fromBoysGroup,'/',fromWholeGroup)\n",
    "print(pr)"
   ]
  },
  {
   "cell_type": "code",
   "execution_count": 37,
   "metadata": {},
   "outputs": [
    {
     "name": "stdout",
     "output_type": "stream",
     "text": [
      "('H', 'H', 'H', 'H')\n",
      "('H', 'H', 'H', 'T')\n",
      "('H', 'H', 'T', 'H')\n",
      "('H', 'H', 'T', 'T')\n",
      "('H', 'T', 'H', 'H')\n",
      "('H', 'T', 'H', 'T')\n",
      "('H', 'T', 'T', 'H')\n",
      "('H', 'T', 'T', 'T')\n",
      "('T', 'H', 'H', 'H')\n",
      "('T', 'H', 'H', 'T')\n",
      "('T', 'H', 'T', 'H')\n",
      "('T', 'H', 'T', 'T')\n",
      "('T', 'T', 'H', 'H')\n",
      "('T', 'T', 'H', 'T')\n",
      "('T', 'T', 'T', 'H')\n",
      "('T', 'T', 'T', 'T')\n"
     ]
    }
   ],
   "source": [
    "c = itertools.product('HT',repeat=4)\n",
    "for i in list(c):\n",
    "    print(i)\n",
    "#n = len(list(c))\n",
    "#print(n)   "
   ]
  }
 ],
 "metadata": {
  "kernelspec": {
   "display_name": "Python 3",
   "language": "python",
   "name": "python3"
  },
  "language_info": {
   "codemirror_mode": {
    "name": "ipython",
    "version": 3
   },
   "file_extension": ".py",
   "mimetype": "text/x-python",
   "name": "python",
   "nbconvert_exporter": "python",
   "pygments_lexer": "ipython3",
   "version": "3.7.6"
  }
 },
 "nbformat": 4,
 "nbformat_minor": 4
}
