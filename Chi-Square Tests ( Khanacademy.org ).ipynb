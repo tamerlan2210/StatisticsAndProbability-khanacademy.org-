{
 "cells": [
  {
   "cell_type": "markdown",
   "metadata": {},
   "source": [
    "LINKS:  https://machinelearningmastery.com/chi-squared-test-for-machine-learning/"
   ]
  },
  {
   "cell_type": "code",
   "execution_count": 40,
   "metadata": {},
   "outputs": [],
   "source": [
    "from scipy.stats import chisquare\n",
    "from scipy.stats import chi2\n",
    "from scipy.stats import chi2_contingency"
   ]
  },
  {
   "cell_type": "markdown",
   "metadata": {},
   "source": [
    "\n",
    "# Test statistic and P-value in a goodness-of-fit test:\n"
   ]
  },
  {
   "cell_type": "markdown",
   "metadata": {},
   "source": [
    "#1"
   ]
  },
  {
   "cell_type": "markdown",
   "metadata": {},
   "source": [
    "Cason read an article claiming that 98.6% of births in his country happen in a hospital, 0.5% in a home, 0.4% in a birthing center, and 0.5% in other places. He wondered if the locations of births at his state followed this distribution, so he took a random sample of 2000 births and recorded where they happened. \n",
    "What are the values of the chi-squared test statistic and P-value for Cason's test?"
   ]
  },
  {
   "cell_type": "code",
   "execution_count": 46,
   "metadata": {},
   "outputs": [
    {
     "name": "stdout",
     "output_type": "stream",
     "text": [
      "chi-squared test statistic: 1.6081135902636918 \n",
      " P-value: 0.657551520030689\n"
     ]
    }
   ],
   "source": [
    "#Answer\n",
    "\n",
    "obs = [1968,14,8,10] #Observed counts from SRS \n",
    "srs = 2000 #num of observations\n",
    "exp_p = [0.986,0.005,0.004,0.005] #expected percentages\n",
    "exp = []\n",
    "for i in exp_p: \n",
    "    exp.append(int(i*srs)) #Expected counts\n",
    "    \n",
    "chiSq,p_value = chisquare(f_obs=obs, f_exp=exp)  #chi-squared test statistic and P-value\n",
    "print('chi-squared test statistic:',chiSq,'\\n','P-value:',p_value)"
   ]
  },
  {
   "cell_type": "markdown",
   "metadata": {},
   "source": [
    "# Test statistic and P-value in chi-square tests with two-tables:"
   ]
  },
  {
   "cell_type": "markdown",
   "metadata": {},
   "source": [
    "#1"
   ]
  },
  {
   "cell_type": "code",
   "execution_count": 45,
   "metadata": {},
   "outputs": [
    {
     "name": "stdout",
     "output_type": "stream",
     "text": [
      "chi-squared test statistic: 5.158730158730159 \n",
      " P-value: 0.07582212977799092 \n",
      " DF: 2 \n",
      " Expected: [[35. 21. 14.]\n",
      " [15.  9.  6.]]\n"
     ]
    }
   ],
   "source": [
    "#Answer\n",
    "\n",
    "obs = [[30,25,15],\n",
    "       [20,5,5]] \n",
    "\n",
    "    \n",
    "chiSq,p_value,dof,exp = chi2_contingency(obs)\n",
    "print('chi-squared test statistic:',chiSq,'\\n','P-value:',p_value,'\\n','DF:',dof,'\\n','Expected:',exp)"
   ]
  }
 ],
 "metadata": {
  "kernelspec": {
   "display_name": "Python 3",
   "language": "python",
   "name": "python3"
  },
  "language_info": {
   "codemirror_mode": {
    "name": "ipython",
    "version": 3
   },
   "file_extension": ".py",
   "mimetype": "text/x-python",
   "name": "python",
   "nbconvert_exporter": "python",
   "pygments_lexer": "ipython3",
   "version": "3.7.6"
  }
 },
 "nbformat": 4,
 "nbformat_minor": 4
}
