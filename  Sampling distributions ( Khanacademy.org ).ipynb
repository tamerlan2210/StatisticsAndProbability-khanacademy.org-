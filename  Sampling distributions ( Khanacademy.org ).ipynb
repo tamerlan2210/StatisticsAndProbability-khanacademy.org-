{
 "cells": [
  {
   "cell_type": "code",
   "execution_count": 2,
   "metadata": {},
   "outputs": [],
   "source": [
    "from scipy.stats import norm\n",
    "import math"
   ]
  },
  {
   "cell_type": "code",
   "execution_count": 3,
   "metadata": {},
   "outputs": [],
   "source": [
    "#standard deviation of sample proportions\n",
    "\n",
    "def std_sample_prop(mean,sample_size):\n",
    "    return math.sqrt(mean*(1-mean)/sample_size)"
   ]
  },
  {
   "cell_type": "markdown",
   "metadata": {},
   "source": [
    "# Finding probabilities with sample proportions:\n"
   ]
  },
  {
   "cell_type": "markdown",
   "metadata": {},
   "source": [
    "#1"
   ]
  },
  {
   "cell_type": "markdown",
   "metadata": {},
   "source": [
    "According to the 2011 National Survey of Fishing, Hunting, and Wildlife-Associated Recreation, there were over 71 million wildlife watchers in the US. Of these wildlife watchers, the survey reports that 80% actively observed mammals. Suppose that one of the census workers repeated the survey with a simple random sample of only 500wildlife watchers that same year.\n",
    "Assuming that the original survey's 80% claim is correct, what is the approximate probability that between 79%and 81%, of the 500 sampled wildlife watchers actively observed mammals in 2011?"
   ]
  },
  {
   "cell_type": "code",
   "execution_count": 5,
   "metadata": {},
   "outputs": [
    {
     "data": {
      "text/plain": [
       "0.42384987796942153"
      ]
     },
     "execution_count": 5,
     "metadata": {},
     "output_type": "execute_result"
    }
   ],
   "source": [
    "size = 500\n",
    "mu = 0.8\n",
    "sd = std_sample_prop(mu,size)\n",
    "\n",
    "norm.cdf(0.81,mu,sd)-norm.cdf(0.79,mu,sd)"
   ]
  },
  {
   "cell_type": "markdown",
   "metadata": {},
   "source": [
    "# Mean and standard deviation of sample means:\n"
   ]
  },
  {
   "cell_type": "markdown",
   "metadata": {},
   "source": [
    "#1"
   ]
  },
  {
   "cell_type": "markdown",
   "metadata": {},
   "source": [
    "Karina plays a video game that is scored by round. In about 500 rounds, her career average is 20 points per round with a standard deviation of 5 points per round. Suppose we take random samples of 3 past rounds and calculate the mean number of points x that she scored in each sample.\n",
    "Calculate the mean and standard deviation of the sampling distribution of x."
   ]
  },
  {
   "cell_type": "code",
   "execution_count": 16,
   "metadata": {},
   "outputs": [
    {
     "name": "stdout",
     "output_type": "stream",
     "text": [
      "20 \n",
      " 2.886751345948129\n"
     ]
    }
   ],
   "source": [
    "samp_size = 3\n",
    "mu_pop =  20\n",
    "sd_pop = 5\n",
    "\n",
    "mu_samp = mu_pop\n",
    "sd_samp = sd_pop/math.sqrt(samp_size)\n",
    "print(mu_samp,'\\n',sd_samp)"
   ]
  }
 ],
 "metadata": {
  "kernelspec": {
   "display_name": "Python 3",
   "language": "python",
   "name": "python3"
  },
  "language_info": {
   "codemirror_mode": {
    "name": "ipython",
    "version": 3
   },
   "file_extension": ".py",
   "mimetype": "text/x-python",
   "name": "python",
   "nbconvert_exporter": "python",
   "pygments_lexer": "ipython3",
   "version": "3.7.6"
  }
 },
 "nbformat": 4,
 "nbformat_minor": 4
}
