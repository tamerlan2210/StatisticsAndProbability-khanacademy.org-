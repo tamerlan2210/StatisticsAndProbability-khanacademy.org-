{
 "cells": [
  {
   "cell_type": "code",
   "execution_count": 1,
   "metadata": {},
   "outputs": [
    {
     "data": {
      "text/plain": [
       "0.7083333333333333"
      ]
     },
     "execution_count": 1,
     "metadata": {},
     "output_type": "execute_result"
    }
   ],
   "source": [
    "#Experimental probability\n",
    "\n",
    "a = 21\n",
    "b = 14\n",
    "c = 23\n",
    "d = 14\n",
    "summ = a + b +c +d \n",
    "1 - 21/summ"
   ]
  },
  {
   "cell_type": "code",
   "execution_count": 23,
   "metadata": {},
   "outputs": [
    {
     "name": "stdout",
     "output_type": "stream",
     "text": [
      "0.16\n"
     ]
    }
   ],
   "source": [
    "# Independent probability\n",
    "\n",
    "p1= 3/11\n",
    "p2 = 6/10\n",
    "p = p1*p2\n",
    "\n",
    "print(round(p,2))"
   ]
  },
  {
   "cell_type": "code",
   "execution_count": 20,
   "metadata": {},
   "outputs": [
    {
     "name": "stdout",
     "output_type": "stream",
     "text": [
      "0.74\n",
      "0.26\n"
     ]
    }
   ],
   "source": [
    "#Probability of \"at least one\" success\n",
    "\n",
    "num_of_times = 10\n",
    "p_everything_will_not_happen = 0.97**num_of_times\n",
    "p_at_least_one_will_happen = round(1 - p_everything_will_not_happen,2)\n",
    "\n",
    "print(round(p_everything_will_not_happen,2))\n",
    "print(p_at_least_one_will_happen)"
   ]
  },
  {
   "cell_type": "code",
   "execution_count": 25,
   "metadata": {},
   "outputs": [
    {
     "name": "stdout",
     "output_type": "stream",
     "text": [
      "0.8\n"
     ]
    }
   ],
   "source": [
    "# Calculating conditional probability\n",
    "\n",
    "#Find the probability that a randomly chosen customer ordered a burger given that they ordered fries.\n",
    "\n",
    "p_NotOrd = 0.20\n",
    "p_ord_burg = 0.30\n",
    "p_ord_fries = 0.10\n",
    "p_ord_FriesAndBurg = 0.4\n",
    "\n",
    "p_ord_burg_given_ordFries = p_ord_FriesAndBurg/(p_ord_fries+p_ord_FriesAndBurg)\n",
    "\n",
    "print(p_ord_burg_given_ordFries)"
   ]
  }
 ],
 "metadata": {
  "kernelspec": {
   "display_name": "Python 3",
   "language": "python",
   "name": "python3"
  },
  "language_info": {
   "codemirror_mode": {
    "name": "ipython",
    "version": 3
   },
   "file_extension": ".py",
   "mimetype": "text/x-python",
   "name": "python",
   "nbconvert_exporter": "python",
   "pygments_lexer": "ipython3",
   "version": "3.7.6"
  }
 },
 "nbformat": 4,
 "nbformat_minor": 4
}
